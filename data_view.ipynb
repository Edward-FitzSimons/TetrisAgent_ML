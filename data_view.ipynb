{
 "cells": [
  {
   "cell_type": "markdown",
   "metadata": {},
   "source": [
    "## Training Data Display and Analysis\n",
    "This is notebook is for viewing the data gathered during training runs of our agent. We're currently only supporting one traning file, but in the future we're probably going to split the data up into multiple files.\n",
    "\n",
    "#### Data Structure\n",
    "Each state data set in the format of an array:\n",
    "0. Board State: 2D Array representation of board\n",
    "1. Reward: Integer reward at end of state\n",
    "2. Done: True if game is over\n",
    "3. Starting Anchor: Anchor where the shape dropped\n",
    "4. End Anchor: Anchor after completing the move\n",
    "5. Shape: Shape that was dropped\n",
    "6. Height: How far the blocks are from the top of the board, greater is better\n",
    "7. Success: Were we able to complete the move?\n",
    "8. Actions: An array of the actions we took to complete the state"
   ]
  },
  {
   "cell_type": "code",
   "execution_count": 64,
   "metadata": {},
   "outputs": [
    {
     "data": {
      "text/plain": [
       "{'Board': [1862,\n",
       "  array([[ 0.        ,  0.        , -0.00151515, -0.00373523, -0.000919  ,\n",
       "          -0.03636881, -0.01266063, -0.04326531, -0.03038338, -0.07082285,\n",
       "          -0.07632085, -0.17902026, -0.0683248 , -0.09912836, -0.1282029 ,\n",
       "          -0.05784208, -0.09831343, -0.11848756, -0.08303378, -0.1115757 ],\n",
       "         [ 0.        , -0.00065405, -0.02910878, -0.02900471, -0.03692998,\n",
       "          -0.06678078, -0.08122394, -0.07784012, -0.10671438, -0.16352594,\n",
       "          -0.2308935 , -0.22988942, -0.22494863, -0.19297359, -0.1963875 ,\n",
       "          -0.20257055, -0.19828746, -0.19394809, -0.17385425, -0.15413652],\n",
       "         [ 0.        , -0.01860626, -0.02358735, -0.04005109, -0.05202986,\n",
       "          -0.04805682, -0.09561387, -0.11853276, -0.09802758, -0.11568539,\n",
       "          -0.16734427, -0.22650159, -0.21330288, -0.21618348, -0.14253035,\n",
       "          -0.17290178, -0.1783694 , -0.14998561, -0.14934025, -0.1367754 ],\n",
       "         [ 0.        ,  0.00080196, -0.00944153, -0.03943898, -0.04669763,\n",
       "          -0.06316351, -0.09845313, -0.1161508 , -0.13124198, -0.15147906,\n",
       "          -0.16621206, -0.16675592, -0.13769116, -0.21472797, -0.1713096 ,\n",
       "          -0.16672889, -0.15227749, -0.11883995, -0.16131616, -0.12311816],\n",
       "         [ 0.        , -0.00887887, -0.02344457, -0.02904015, -0.06335122,\n",
       "          -0.11162814, -0.09848559, -0.07235851, -0.1924952 , -0.22548331,\n",
       "          -0.20456687, -0.19177034, -0.20827232, -0.1629326 , -0.17617892,\n",
       "          -0.12953243, -0.19601442, -0.17396231, -0.14702587, -0.13142141],\n",
       "         [ 0.        , -0.02016279, -0.03027733, -0.02949483, -0.05651756,\n",
       "          -0.07785313, -0.14487428, -0.09299277, -0.12094932, -0.16417111,\n",
       "          -0.18820274, -0.11244901, -0.17722352, -0.1811946 , -0.16940698,\n",
       "          -0.1362511 , -0.21802865, -0.17734214, -0.15909263, -0.14189922],\n",
       "         [ 0.        , -0.00731906, -0.06891641, -0.06906266, -0.12903723,\n",
       "          -0.07121928, -0.0713641 , -0.11687772, -0.11628678, -0.17545912,\n",
       "          -0.17356629, -0.10737982, -0.10556146, -0.14769793, -0.17290972,\n",
       "          -0.20727621, -0.25483777, -0.18933999, -0.17343162, -0.14566751],\n",
       "         [ 0.        , -0.00384183, -0.04537163, -0.11370342, -0.04846286,\n",
       "          -0.07778071, -0.10861619, -0.18998907, -0.14845156, -0.15050445,\n",
       "          -0.13926111, -0.1279778 , -0.18790711, -0.16720712, -0.1775212 ,\n",
       "          -0.21322418, -0.21791591, -0.20278217, -0.19071168, -0.160157  ],\n",
       "         [ 0.        , -0.00995221, -0.04483785, -0.08222321, -0.06367792,\n",
       "          -0.07525591, -0.12416315, -0.22106609, -0.12290988, -0.16530321,\n",
       "          -0.19396249, -0.19380963, -0.20047882, -0.21587895, -0.21535851,\n",
       "          -0.20396784, -0.23565261, -0.18803223, -0.17202551, -0.14509402],\n",
       "         [ 0.        , -0.00353693, -0.02757947, -0.05168343, -0.02028809,\n",
       "          -0.03107577, -0.04172936, -0.18844426, -0.06349752, -0.11334789,\n",
       "          -0.06618813, -0.15042404, -0.15229736, -0.14691154, -0.23422457,\n",
       "          -0.06966639, -0.14177607, -0.18108612, -0.12948268, -0.13238989]])],\n",
       " 'Reward': [1862, -0.13426423200859308],\n",
       " 'R|Down': [0, 0],\n",
       " 'R|I_1': [129, 0.4573643410852713],\n",
       " 'R|I_2': [96, -0.15625000000000006],\n",
       " 'R|I_3': [27, 0.55555555555555547],\n",
       " 'R|I_4': [0, 0],\n",
       " 'R|J_1': [71, -0.14084507042253522],\n",
       " 'R|J_2': [134, -0.097014925373134317],\n",
       " 'R|J_3': [50, -0.19999999999999998],\n",
       " 'R|J_4': [0, 0],\n",
       " 'R|L_1': [153, 0.14379084967320258],\n",
       " 'R|L_2': [72, -0.41666666666666674],\n",
       " 'R|L_3': [26, -0.076923076923076955],\n",
       " 'R|L_4': [0, 0],\n",
       " 'R|O_1': [11, 0.18181818181818185],\n",
       " 'R|O_2': [241, -0.041493775933609978],\n",
       " 'R|O_3': [0, 0],\n",
       " 'R|O_4': [0, 0],\n",
       " 'R|S_1': [114, -0.41228070175438591],\n",
       " 'R|S_2': [112, -0.28571428571428575],\n",
       " 'R|S_3': [19, -0.36842105263157893],\n",
       " 'R|S_4': [0, 0],\n",
       " 'R|Success': [1314, -0.10197869101978699],\n",
       " 'R|T_1': [125, -0.22400000000000006],\n",
       " 'R|T_2': [68, -0.29411764705882348],\n",
       " 'R|T_3': [29, -0.20689655172413796],\n",
       " 'R|T_4': [0, 0],\n",
       " 'R|Up': (0, 0),\n",
       " 'R|Z_1': [101, -0.41584158415841593],\n",
       " 'R|Z_2': [122, -0.33606557377049168],\n",
       " 'R|Z_3': [14, -0.7142857142857143],\n",
       " 'R|Z_4': [0, 0]}"
      ]
     },
     "execution_count": 64,
     "metadata": {},
     "output_type": "execute_result"
    }
   ],
   "source": [
    "import numpy as np\n",
    "import matplotlib\n",
    "from matplotlib import cm\n",
    "from matplotlib import colors\n",
    "from matplotlib import pyplot as plt\n",
    "\n",
    "BRD_HEIGHT = 20\n",
    "BRD_WIDTH = 10\n",
    "\n",
    "data = np.load('training_data.npy').item()\n",
    "\n",
    "data"
   ]
  },
  {
   "cell_type": "markdown",
   "metadata": {},
   "source": [
    "A colored graph representation of our average board state"
   ]
  },
  {
   "cell_type": "code",
   "execution_count": 86,
   "metadata": {},
   "outputs": [
    {
     "data": {
      "image/png": "[encoded data removed]",
      "text/plain": [
       "<matplotlib.figure.Figure at 0x243220a30b8>"
      ]
     },
     "metadata": {},
     "output_type": "display_data"
    }
   ],
   "source": [
    "brd = data['Board'][1]\n",
    "grid = np.zeros((20,10))\n",
    "\n",
    "for i in range(len(brd)):\n",
    "    for j in range(len(brd[i])):\n",
    "        grid[19 - j][9 - i] = brd[i][j]\n",
    "            \n",
    "plt.imshow(grid, cmap = cm.coolwarm)\n",
    "plt.colorbar()\n",
    "plt.show()"
   ]
  },
  {
   "cell_type": "code",
   "execution_count": null,
   "metadata": {
    "collapsed": true
   },
   "outputs": [],
   "source": []
  }
 ],
 "metadata": {
  "kernelspec": {
   "display_name": "Python 3",
   "language": "python",
   "name": "python3"
  },
  "language_info": {
   "codemirror_mode": {
    "name": "ipython",
    "version": 3
   },
   "file_extension": ".py",
   "mimetype": "text/x-python",
   "name": "python",
   "nbconvert_exporter": "python",
   "pygments_lexer": "ipython3",
   "version": "3.6.3"
  }
 },
 "nbformat": 4,
 "nbformat_minor": 2
}
