{
 "cells": [
  {
   "cell_type": "markdown",
   "metadata": {},
   "source": [
    "## Training Data Display and Analysis\n",
    "This is notebook is for viewing the data gathered during training runs of our agent. We're currently only supporting one traning file, but in the future we're probably going to split the data up into multiple files.\n",
    "\n",
    "#### Data Structure\n",
    "Each state data set in the format of an array:\n",
    "0. Board State: 2D Array representation of board\n",
    "1. Reward: Integer reward at end of state\n",
    "2. Done: True if game is over\n",
    "3. Starting Anchor: Anchor where the shape dropped\n",
    "4. End Anchor: Anchor after completing the move\n",
    "5. Shape: Shape that was dropped\n",
    "6. Height: How far the blocks are from the top of the board, greater is better\n",
    "7. Success: Were we able to complete the move?\n",
    "8. Actions: An array of the actions we took to complete the state"
   ]
  },
  {
   "cell_type": "code",
   "execution_count": 8,
   "metadata": {},
   "outputs": [
    {
     "name": "stdout",
     "output_type": "stream",
     "text": [
      "Total number of states in dataset:  20325\n"
     ]
    }
   ],
   "source": [
    "import numpy as np\n",
    "import matplotlib\n",
    "from matplotlib import pyplot as plt\n",
    "\n",
    "BRD_HEIGHT = 20\n",
    "BRD_WIDTH = 10\n",
    "\n",
    "dat_array = np.load('training_data.npy')\n",
    "\n",
    "print(\"Total number of states in dataset: \", len(dat_array))"
   ]
  },
  {
   "cell_type": "markdown",
   "metadata": {
    "collapsed": true
   },
   "source": [
    "Now we can get some averages out of this dataset"
   ]
  },
  {
   "cell_type": "code",
   "execution_count": 55,
   "metadata": {},
   "outputs": [],
   "source": [
    "# Function to average reward in the dataset based on y at index iy\n",
    "def average(dat, iy = -1, y = None):\n",
    "    n = len(dat)\n",
    "    m = 0\n",
    "    \n",
    "    if iy < 0:\n",
    "        for j in range(n):\n",
    "            a = 1/(j+1)\n",
    "            m = m + a*(dat[j][1] - m )\n",
    "            \n",
    "    elif y is not None:\n",
    "        for j in range(n):\n",
    "            # print(str(dat[j][iy]))\n",
    "            if np.array_equal(dat[j][iy], y):\n",
    "                a = 1/(j+1)\n",
    "                m = m + a*(dat[j][1] - m )\n",
    "        \n",
    "    return m"
   ]
  },
  {
   "cell_type": "code",
   "execution_count": 53,
   "metadata": {},
   "outputs": [
    {
     "data": {
      "text/plain": [
       "-0.39778597785977754"
      ]
     },
     "execution_count": 53,
     "metadata": {},
     "output_type": "execute_result"
    }
   ],
   "source": [
    "avgR = average(dat_array)\n",
    "avgR"
   ]
  },
  {
   "cell_type": "markdown",
   "metadata": {},
   "source": [
    "Definitions for shapes and their rotations"
   ]
  },
  {
   "cell_type": "code",
   "execution_count": 71,
   "metadata": {},
   "outputs": [
    {
     "name": "stdout",
     "output_type": "stream",
     "text": [
      "Mean reward when dropped shape is T:  -0.49278016001\n",
      "Mean reward when dropped shape is J:  -0.380693683179\n",
      "Mean reward when dropped shape is L:  -0.653110381455\n",
      "Mean reward when dropped shape is Z:  -0.731789845654\n",
      "Mean reward when dropped shape is S:  -0.871091878069\n",
      "Mean reward when dropped shape is I:  0.399109375712\n",
      "Mean reward when dropped shape is O:  -0.318258374206\n"
     ]
    }
   ],
   "source": [
    "def rot_shape(shape):\n",
    "    return [(j, -i) for i, j in shape]\n",
    "\n",
    "def shp_avg_ind(shape):\n",
    "    return average(dat_array, iy = 5, y = shape)\n",
    "\n",
    "def shp_avg(shape):\n",
    "    avg = 0\n",
    "    for i in range(4):\n",
    "        avg = avg + average(dat_array, iy = 5, y = shape)\n",
    "        shape = rot_shape(shape)\n",
    "    return avg\n",
    "\n",
    "shapes = {\n",
    "    'T': [(0, 0), (-1, 0), (1, 0), (0, -1)],\n",
    "    'J': [(0, 0), (-1, 0), (0, -1), (0, -2)],\n",
    "    'L': [(0, 0), (1, 0), (0, -1), (0, -2)],\n",
    "    'Z': [(0, 0), (-1, 0), (0, -1), (1, -1)],\n",
    "    'S': [(0, 0), (-1, -1), (0, -1), (1, 0)],\n",
    "    'I': [(0, 0), (0, -1), (0, -2), (0, -3)],\n",
    "    'O': [(0, 0), (0, -1), (-1, 0), (-1, -1)],\n",
    "}\n",
    "shape_names = ['T', 'J', 'L', 'Z', 'S', 'I', 'O']\n",
    "\n",
    "print(\"Mean reward when dropped shape is T: \", shp_avg(shapes[shape_names[0]]))\n",
    "print(\"Mean reward when dropped shape is J: \", shp_avg(shapes[shape_names[1]]))\n",
    "print(\"Mean reward when dropped shape is L: \", shp_avg(shapes[shape_names[2]]))\n",
    "print(\"Mean reward when dropped shape is Z: \", shp_avg(shapes[shape_names[3]]))\n",
    "print(\"Mean reward when dropped shape is S: \", shp_avg(shapes[shape_names[4]]))\n",
    "print(\"Mean reward when dropped shape is I: \", shp_avg(shapes[shape_names[5]]))\n",
    "print(\"Mean reward when dropped shape is O: \", shp_avg(shapes[shape_names[6]]))"
   ]
  },
  {
   "cell_type": "code",
   "execution_count": null,
   "metadata": {
    "collapsed": true
   },
   "outputs": [],
   "source": []
  }
 ],
 "metadata": {
  "kernelspec": {
   "display_name": "Python 3",
   "language": "python",
   "name": "python3"
  },
  "language_info": {
   "codemirror_mode": {
    "name": "ipython",
    "version": 3
   },
   "file_extension": ".py",
   "mimetype": "text/x-python",
   "name": "python",
   "nbconvert_exporter": "python",
   "pygments_lexer": "ipython3",
   "version": "3.6.3"
  }
 },
 "nbformat": 4,
 "nbformat_minor": 2
}
